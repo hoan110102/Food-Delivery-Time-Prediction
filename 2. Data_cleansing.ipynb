{
 "cells": [
  {
   "cell_type": "markdown",
   "id": "39c97774-c97c-4fc0-880f-e5ccfed6b4e3",
   "metadata": {},
   "source": [
    "# Data Cleansing"
   ]
  },
  {
   "cell_type": "markdown",
   "id": "7a28cdfb-4227-455a-beac-4231f62a7c95",
   "metadata": {},
   "source": [
    "## Libraries"
   ]
  },
  {
   "cell_type": "code",
   "execution_count": 1,
   "id": "d65f58a8-addb-4152-b094-c214a8f9c4e6",
   "metadata": {},
   "outputs": [],
   "source": [
    "# Libraries\n",
    "import numpy as np\n",
    "import pandas as pd\n",
    "import matplotlib.pyplot as plt\n",
    "import seaborn as sns\n",
    "\n",
    "# Settings\n",
    "pd.set_option('display.max_columns', None)\n",
    "sns.set_style('whitegrid')\n",
    "%matplotlib inline"
   ]
  },
  {
   "cell_type": "markdown",
   "id": "c2c41518-97f8-40f6-8676-9d54366fe747",
   "metadata": {},
   "source": [
    "## Loading data"
   ]
  },
  {
   "cell_type": "code",
   "execution_count": 2,
   "id": "cab2ee7e-af5d-496a-8f92-31d0734c4fdd",
   "metadata": {},
   "outputs": [],
   "source": [
    "df=pd.read_csv(\"data/food_delivery_time.csv\")"
   ]
  },
  {
   "cell_type": "markdown",
   "id": "77a3ab57-8aab-4081-956b-db6a9835512e",
   "metadata": {},
   "source": [
    "---\n",
    "# Understand, prepare, cleanse the data\n",
    "\n",
    "## Understanding data information"
   ]
  },
  {
   "cell_type": "code",
   "execution_count": 3,
   "id": "4ee1bbd3-2ff4-4a42-a13e-955a60fb5635",
   "metadata": {},
   "outputs": [
    {
     "data": {
      "text/html": [
       "<div>\n",
       "<style scoped>\n",
       "    .dataframe tbody tr th:only-of-type {\n",
       "        vertical-align: middle;\n",
       "    }\n",
       "\n",
       "    .dataframe tbody tr th {\n",
       "        vertical-align: top;\n",
       "    }\n",
       "\n",
       "    .dataframe thead th {\n",
       "        text-align: right;\n",
       "    }\n",
       "</style>\n",
       "<table border=\"1\" class=\"dataframe\">\n",
       "  <thead>\n",
       "    <tr style=\"text-align: right;\">\n",
       "      <th></th>\n",
       "      <th>ID</th>\n",
       "      <th>Delivery_person_ID</th>\n",
       "      <th>Delivery_person_Age</th>\n",
       "      <th>Delivery_person_Ratings</th>\n",
       "      <th>Restaurant_latitude</th>\n",
       "      <th>Restaurant_longitude</th>\n",
       "      <th>Delivery_location_latitude</th>\n",
       "      <th>Delivery_location_longitude</th>\n",
       "      <th>Order_Date</th>\n",
       "      <th>Time_Orderd</th>\n",
       "      <th>Time_Order_picked</th>\n",
       "      <th>Weatherconditions</th>\n",
       "      <th>Road_traffic_density</th>\n",
       "      <th>Vehicle_condition</th>\n",
       "      <th>Type_of_order</th>\n",
       "      <th>Type_of_vehicle</th>\n",
       "      <th>multiple_deliveries</th>\n",
       "      <th>Festival</th>\n",
       "      <th>City</th>\n",
       "      <th>Time_taken(min)</th>\n",
       "    </tr>\n",
       "  </thead>\n",
       "  <tbody>\n",
       "    <tr>\n",
       "      <th>0</th>\n",
       "      <td>0x4607</td>\n",
       "      <td>INDORES13DEL02</td>\n",
       "      <td>37</td>\n",
       "      <td>4.9</td>\n",
       "      <td>22.745049</td>\n",
       "      <td>75.892471</td>\n",
       "      <td>22.765049</td>\n",
       "      <td>75.912471</td>\n",
       "      <td>19-03-2022</td>\n",
       "      <td>11:30:00</td>\n",
       "      <td>11:45:00</td>\n",
       "      <td>conditions Sunny</td>\n",
       "      <td>High</td>\n",
       "      <td>2</td>\n",
       "      <td>Snack</td>\n",
       "      <td>motorcycle</td>\n",
       "      <td>0</td>\n",
       "      <td>No</td>\n",
       "      <td>Urban</td>\n",
       "      <td>(min) 24</td>\n",
       "    </tr>\n",
       "    <tr>\n",
       "      <th>1</th>\n",
       "      <td>0xb379</td>\n",
       "      <td>BANGRES18DEL02</td>\n",
       "      <td>34</td>\n",
       "      <td>4.5</td>\n",
       "      <td>12.913041</td>\n",
       "      <td>77.683237</td>\n",
       "      <td>13.043041</td>\n",
       "      <td>77.813237</td>\n",
       "      <td>25-03-2022</td>\n",
       "      <td>19:45:00</td>\n",
       "      <td>19:50:00</td>\n",
       "      <td>conditions Stormy</td>\n",
       "      <td>Jam</td>\n",
       "      <td>2</td>\n",
       "      <td>Snack</td>\n",
       "      <td>scooter</td>\n",
       "      <td>1</td>\n",
       "      <td>No</td>\n",
       "      <td>Metropolitian</td>\n",
       "      <td>(min) 33</td>\n",
       "    </tr>\n",
       "    <tr>\n",
       "      <th>2</th>\n",
       "      <td>0x5d6d</td>\n",
       "      <td>BANGRES19DEL01</td>\n",
       "      <td>23</td>\n",
       "      <td>4.4</td>\n",
       "      <td>12.914264</td>\n",
       "      <td>77.678400</td>\n",
       "      <td>12.924264</td>\n",
       "      <td>77.688400</td>\n",
       "      <td>19-03-2022</td>\n",
       "      <td>08:30:00</td>\n",
       "      <td>08:45:00</td>\n",
       "      <td>conditions Sandstorms</td>\n",
       "      <td>Low</td>\n",
       "      <td>0</td>\n",
       "      <td>Drinks</td>\n",
       "      <td>motorcycle</td>\n",
       "      <td>1</td>\n",
       "      <td>No</td>\n",
       "      <td>Urban</td>\n",
       "      <td>(min) 26</td>\n",
       "    </tr>\n",
       "    <tr>\n",
       "      <th>3</th>\n",
       "      <td>0x7a6a</td>\n",
       "      <td>COIMBRES13DEL02</td>\n",
       "      <td>38</td>\n",
       "      <td>4.7</td>\n",
       "      <td>11.003669</td>\n",
       "      <td>76.976494</td>\n",
       "      <td>11.053669</td>\n",
       "      <td>77.026494</td>\n",
       "      <td>05-04-2022</td>\n",
       "      <td>18:00:00</td>\n",
       "      <td>18:10:00</td>\n",
       "      <td>conditions Sunny</td>\n",
       "      <td>Medium</td>\n",
       "      <td>0</td>\n",
       "      <td>Buffet</td>\n",
       "      <td>motorcycle</td>\n",
       "      <td>1</td>\n",
       "      <td>No</td>\n",
       "      <td>Metropolitian</td>\n",
       "      <td>(min) 21</td>\n",
       "    </tr>\n",
       "    <tr>\n",
       "      <th>4</th>\n",
       "      <td>0x70a2</td>\n",
       "      <td>CHENRES12DEL01</td>\n",
       "      <td>32</td>\n",
       "      <td>4.6</td>\n",
       "      <td>12.972793</td>\n",
       "      <td>80.249982</td>\n",
       "      <td>13.012793</td>\n",
       "      <td>80.289982</td>\n",
       "      <td>26-03-2022</td>\n",
       "      <td>13:30:00</td>\n",
       "      <td>13:45:00</td>\n",
       "      <td>conditions Cloudy</td>\n",
       "      <td>High</td>\n",
       "      <td>1</td>\n",
       "      <td>Snack</td>\n",
       "      <td>scooter</td>\n",
       "      <td>1</td>\n",
       "      <td>No</td>\n",
       "      <td>Metropolitian</td>\n",
       "      <td>(min) 30</td>\n",
       "    </tr>\n",
       "  </tbody>\n",
       "</table>\n",
       "</div>"
      ],
      "text/plain": [
       "        ID Delivery_person_ID Delivery_person_Age Delivery_person_Ratings  \\\n",
       "0  0x4607     INDORES13DEL02                   37                     4.9   \n",
       "1  0xb379     BANGRES18DEL02                   34                     4.5   \n",
       "2  0x5d6d     BANGRES19DEL01                   23                     4.4   \n",
       "3  0x7a6a    COIMBRES13DEL02                   38                     4.7   \n",
       "4  0x70a2     CHENRES12DEL01                   32                     4.6   \n",
       "\n",
       "   Restaurant_latitude  Restaurant_longitude  Delivery_location_latitude  \\\n",
       "0            22.745049             75.892471                   22.765049   \n",
       "1            12.913041             77.683237                   13.043041   \n",
       "2            12.914264             77.678400                   12.924264   \n",
       "3            11.003669             76.976494                   11.053669   \n",
       "4            12.972793             80.249982                   13.012793   \n",
       "\n",
       "   Delivery_location_longitude  Order_Date Time_Orderd Time_Order_picked  \\\n",
       "0                    75.912471  19-03-2022    11:30:00          11:45:00   \n",
       "1                    77.813237  25-03-2022    19:45:00          19:50:00   \n",
       "2                    77.688400  19-03-2022    08:30:00          08:45:00   \n",
       "3                    77.026494  05-04-2022    18:00:00          18:10:00   \n",
       "4                    80.289982  26-03-2022    13:30:00          13:45:00   \n",
       "\n",
       "       Weatherconditions Road_traffic_density  Vehicle_condition  \\\n",
       "0       conditions Sunny                High                   2   \n",
       "1      conditions Stormy                 Jam                   2   \n",
       "2  conditions Sandstorms                 Low                   0   \n",
       "3       conditions Sunny              Medium                   0   \n",
       "4      conditions Cloudy                High                   1   \n",
       "\n",
       "  Type_of_order Type_of_vehicle multiple_deliveries Festival            City  \\\n",
       "0        Snack      motorcycle                    0      No           Urban    \n",
       "1        Snack         scooter                    1      No   Metropolitian    \n",
       "2       Drinks      motorcycle                    1      No           Urban    \n",
       "3       Buffet      motorcycle                    1      No   Metropolitian    \n",
       "4        Snack         scooter                    1      No   Metropolitian    \n",
       "\n",
       "  Time_taken(min)  \n",
       "0        (min) 24  \n",
       "1        (min) 33  \n",
       "2        (min) 26  \n",
       "3        (min) 21  \n",
       "4        (min) 30  "
      ]
     },
     "execution_count": 3,
     "metadata": {},
     "output_type": "execute_result"
    }
   ],
   "source": [
    "df.head()"
   ]
  },
  {
   "cell_type": "markdown",
   "id": "aba4c68d-e47e-4323-b7bb-d3573a697dfa",
   "metadata": {},
   "source": [
    "## Understanding data dictionary\n",
    "\n",
    "|Column|Description |\n",
    "| :------------ |:---------------:|\n",
    "|**ID**|order ID number| \n",
    "|**Delivery_person_ID**|ID number of the delivery partner|\n",
    "|**Delivery_person_Age**|Age of the delivery partner|\n",
    "|**Delivery_person_Ratings**|Ratings of the delivery partner based on past deliveries|\n",
    "|**Restaurant_latitude**|The latitude of the restaurant|\n",
    "|**Restaurant_longitude**|The longitude of the restaurant|\n",
    "|**Delivery_location_latitude**|The latitude of the delivery location|\n",
    "|**Delivery_location_longitude**|The longitude of the delivery location|\n",
    "|**Order_Date**|Date of the order|\n",
    "|**Time_Orderd**|Time the order was placed|\n",
    "|**Time_Order_picked**|Time the order was picked|\n",
    "|**Weatherconditions**|Weather conditions of the day|\n",
    "|**Road_traffic_density**|Density of the traffic|\n",
    "|**Vehicle_condition**|Condition of the vehicle|\n",
    "|**Type_of_order**|The type of meal ordered by the customer|\n",
    "|**Type_of_vehicle**|The type of vehicle delivery partner rides|\n",
    "|**multiple_deliveries**|Amount of deliveries driver picked|\n",
    "|**Festival**|If there was a Festival or no.|\n",
    "|**City**|Type of city|\n",
    "|**Time_taken(min)**| The time taken by the delivery partner to complete the order|"
   ]
  },
  {
   "cell_type": "code",
   "execution_count": 4,
   "id": "0e239402-e616-4365-928c-4b5344dd8d69",
   "metadata": {},
   "outputs": [
    {
     "name": "stdout",
     "output_type": "stream",
     "text": [
      "<class 'pandas.core.frame.DataFrame'>\n",
      "RangeIndex: 45593 entries, 0 to 45592\n",
      "Data columns (total 20 columns):\n",
      " #   Column                       Non-Null Count  Dtype  \n",
      "---  ------                       --------------  -----  \n",
      " 0   ID                           45593 non-null  object \n",
      " 1   Delivery_person_ID           45593 non-null  object \n",
      " 2   Delivery_person_Age          45593 non-null  object \n",
      " 3   Delivery_person_Ratings      45593 non-null  object \n",
      " 4   Restaurant_latitude          45593 non-null  float64\n",
      " 5   Restaurant_longitude         45593 non-null  float64\n",
      " 6   Delivery_location_latitude   45593 non-null  float64\n",
      " 7   Delivery_location_longitude  45593 non-null  float64\n",
      " 8   Order_Date                   45593 non-null  object \n",
      " 9   Time_Orderd                  45593 non-null  object \n",
      " 10  Time_Order_picked            45593 non-null  object \n",
      " 11  Weatherconditions            45593 non-null  object \n",
      " 12  Road_traffic_density         45593 non-null  object \n",
      " 13  Vehicle_condition            45593 non-null  int64  \n",
      " 14  Type_of_order                45593 non-null  object \n",
      " 15  Type_of_vehicle              45593 non-null  object \n",
      " 16  multiple_deliveries          45593 non-null  object \n",
      " 17  Festival                     45593 non-null  object \n",
      " 18  City                         45593 non-null  object \n",
      " 19  Time_taken(min)              45593 non-null  object \n",
      "dtypes: float64(4), int64(1), object(15)\n",
      "memory usage: 7.0+ MB\n"
     ]
    }
   ],
   "source": [
    "df.info()"
   ]
  },
  {
   "cell_type": "code",
   "execution_count": 5,
   "id": "daec6cd3-ba7c-40ad-bc6d-b6ddcb024855",
   "metadata": {},
   "outputs": [
    {
     "data": {
      "text/plain": [
       "(45593, 20)"
      ]
     },
     "execution_count": 5,
     "metadata": {},
     "output_type": "execute_result"
    }
   ],
   "source": [
    "df.shape"
   ]
  },
  {
   "cell_type": "markdown",
   "id": "3faa7472-9749-4b87-b9d5-fe96b086f075",
   "metadata": {},
   "source": [
    "We have 20 features and 45593 rows\n",
    "\n",
    "**From the above output, we can conclude and note that:**\n",
    "\n",
    "- There are no missing values in this datasets\n",
    "- Still some features that don't have correct datatypes like: Delivery_person_Age, Delivery_person_Ratings and multiple_deliveries, Time_taken(min), it is possible that there are non-numeric characters in this columns, causing the data to be converted to object format, except column Time_taken(min) because the phrase (min) appears; Order_Date, Time_Ordered, Time_Order_picked are not in datetime."
   ]
  },
  {
   "cell_type": "markdown",
   "id": "33e4932f-c30e-4729-a988-32a19f5b14f4",
   "metadata": {},
   "source": [
    "## Data Cleanse \n",
    "Data cleansing, also known as data cleaning or data scrubbing, is the process of identifying and correcting or removing errors, inconsistencies, and inaccuracies in a dataset. The goal of data cleansing is to improve the quality of data so that it can be used effectively in data analysis, decision-making, and other applications.\n",
    "\n",
    "Fortunately the data is already very clean, but there are some columns that need a touch, so for this section my focus will be:\n",
    "\n",
    "- Remove \"condition\" from Weatherconditions\n",
    "- Change datatype\n",
    "- Check and handle missing values.\n",
    "- Transform target variable (Time_taken(min)) into an int.\n",
    "- Create some new variables by merging or transforming old variables.\n",
    "\n",
    "### Remove \"condition\" from Weatherconditions"
   ]
  },
  {
   "cell_type": "code",
   "execution_count": 6,
   "id": "87519897-d237-4c46-b3c5-77188e478e35",
   "metadata": {},
   "outputs": [],
   "source": [
    "df['Weatherconditions']=df['Weatherconditions'].str.slice(start=10)"
   ]
  },
  {
   "cell_type": "markdown",
   "id": "a03f6e84-0115-4921-9720-fcd4d3a8c553",
   "metadata": {},
   "source": [
    "### Change datatype"
   ]
  },
  {
   "cell_type": "code",
   "execution_count": 7,
   "id": "ab5e796d-b597-4bf6-821a-11aeb799dbda",
   "metadata": {},
   "outputs": [],
   "source": [
    "# Check for strange characters appearing in the numerical columns\n",
    "def check_invalid(col, reg=r'^[0-9]+$', replace_reg=r'[0-9]'):\n",
    "    invalid_row=df[col][~df[col].str.match(reg)]\n",
    "    invalid_count=invalid_row.count()\n",
    "\n",
    "    invalid=df[col].str.replace(replace_reg, '', regex=True).unique()\n",
    "    \n",
    "    return invalid, invalid_count"
   ]
  },
  {
   "cell_type": "code",
   "execution_count": 8,
   "id": "27104125-6508-4cd0-89ab-bb0df4ec6588",
   "metadata": {},
   "outputs": [
    {
     "name": "stdout",
     "output_type": "stream",
     "text": [
      "Delivery_person_Age (array(['', 'NaN '], dtype=object), 1854)\n",
      "Delivery_person_Ratings (array(['.', '', 'NaN '], dtype=object), 40423)\n",
      "multiple_deliveries (array(['', 'NaN '], dtype=object), 993)\n"
     ]
    }
   ],
   "source": [
    "for col in df[['Delivery_person_Age', 'Delivery_person_Ratings', 'multiple_deliveries']].columns:\n",
    "    print(col, check_invalid(col))"
   ]
  },
  {
   "cell_type": "markdown",
   "id": "1bbe9e26-336a-438f-aecd-244856c0451d",
   "metadata": {},
   "source": [
    "We can see that there are non-numeric characters in columns that should be numeric. Most of them are the phrase 'NaN '. Since this is a phrase for missing values, I suspect that such a phrase may appear in other columns."
   ]
  },
  {
   "cell_type": "code",
   "execution_count": 9,
   "id": "433c550b-ca67-4edd-bb14-3bc5262140bf",
   "metadata": {},
   "outputs": [
    {
     "data": {
      "text/plain": [
       "ID                                0\n",
       "Delivery_person_ID                0\n",
       "Delivery_person_Age            1854\n",
       "Delivery_person_Ratings        1908\n",
       "Restaurant_latitude               0\n",
       "Restaurant_longitude              0\n",
       "Delivery_location_latitude        0\n",
       "Delivery_location_longitude       0\n",
       "Order_Date                        0\n",
       "Time_Orderd                    1731\n",
       "Time_Order_picked                 0\n",
       "Weatherconditions               616\n",
       "Road_traffic_density            601\n",
       "Vehicle_condition                 0\n",
       "Type_of_order                     0\n",
       "Type_of_vehicle                   0\n",
       "multiple_deliveries             993\n",
       "Festival                        228\n",
       "City                           1200\n",
       "Time_taken(min)                   0\n",
       "dtype: int64"
      ]
     },
     "execution_count": 9,
     "metadata": {},
     "output_type": "execute_result"
    }
   ],
   "source": [
    "# Find 'NaN ' in all columns\n",
    "df.map(lambda x: 'NaN' in str(x)).sum()"
   ]
  },
  {
   "cell_type": "markdown",
   "id": "311f8bb4-e80c-483f-9c5e-2a4f32d6d89d",
   "metadata": {},
   "source": [
    "There are quite a few columns containing such a phrase, we will replace that phrase with np.nan"
   ]
  },
  {
   "cell_type": "code",
   "execution_count": 10,
   "id": "a2d8d4ef-531a-4d8a-90cd-c093c304c8c3",
   "metadata": {},
   "outputs": [],
   "source": [
    "# Remove space character in categorical columns\n",
    "df=df.map(lambda x: str(x).replace(' ', '') if ' ' in str(x) else x)"
   ]
  },
  {
   "cell_type": "code",
   "execution_count": 11,
   "id": "8632ebb4-eb7e-4cd0-873b-a1f57ecf1458",
   "metadata": {},
   "outputs": [
    {
     "data": {
      "text/plain": [
       "ID                                0\n",
       "Delivery_person_ID                0\n",
       "Delivery_person_Age            1854\n",
       "Delivery_person_Ratings        1908\n",
       "Restaurant_latitude               0\n",
       "Restaurant_longitude              0\n",
       "Delivery_location_latitude        0\n",
       "Delivery_location_longitude       0\n",
       "Order_Date                        0\n",
       "Time_Orderd                    1731\n",
       "Time_Order_picked                 0\n",
       "Weatherconditions               616\n",
       "Road_traffic_density            601\n",
       "Vehicle_condition                 0\n",
       "Type_of_order                     0\n",
       "Type_of_vehicle                   0\n",
       "multiple_deliveries             993\n",
       "Festival                        228\n",
       "City                           1200\n",
       "Time_taken(min)                   0\n",
       "dtype: int64"
      ]
     },
     "execution_count": 11,
     "metadata": {},
     "output_type": "execute_result"
    }
   ],
   "source": [
    "# Replace all 'NaN ' by np.nan\n",
    "df=df.map(lambda x: np.nan if 'NaN' in str(x) else x)\n",
    "df.isnull().sum()"
   ]
  },
  {
   "cell_type": "markdown",
   "id": "87883e3b-3902-4d43-a164-149b71146bc9",
   "metadata": {},
   "source": [
    "Convert the numeric columns to the correct data type (because the Age column should be an integer, but because we replaced the string with np.nan, we cannot convert the Age column to int type but must use float type)"
   ]
  },
  {
   "cell_type": "code",
   "execution_count": 12,
   "id": "34d1fdfa-0925-410c-a0e3-5ea0aa84593d",
   "metadata": {},
   "outputs": [],
   "source": [
    "df['Delivery_person_Age']=df['Delivery_person_Age'].astype('float')\n",
    "df['Delivery_person_Ratings']=df['Delivery_person_Ratings'].astype('float')\n",
    "df['multiple_deliveries']=df['multiple_deliveries'].astype('float')"
   ]
  },
  {
   "cell_type": "markdown",
   "id": "2e4c3de0-63a3-4da4-aca1-f1aad53f84ef",
   "metadata": {},
   "source": [
    "### Check and handle missing values\n",
    "\n",
    "Handling missing values in data is crucial because they can create complications for statistical analyses and machine learning models. The presence of missing values can result in inaccurate or biased outcomes by altering statistical properties, such as the mean or variance, of the data. Consequently, conclusions drawn from such data may not be reliable. Moreover, some statistical tests require complete data to be valid.\n",
    "\n",
    "Handling missing values can address these issues by replacing the missing data with estimates derived from existing data. This preserves the statistical characteristics of the data and can enhance the performance of machine learning models. Nevertheless, it is crucial to use suitable imputation techniques and carefully assess the potential influence of the imputed data on the analyses or models employed."
   ]
  },
  {
   "cell_type": "code",
   "execution_count": 13,
   "id": "0984e229-0d4e-4ca4-a356-517b95ad33d5",
   "metadata": {},
   "outputs": [
    {
     "data": {
      "text/plain": [
       "ID                                0\n",
       "Delivery_person_ID                0\n",
       "Delivery_person_Age            1854\n",
       "Delivery_person_Ratings        1908\n",
       "Restaurant_latitude               0\n",
       "Restaurant_longitude              0\n",
       "Delivery_location_latitude        0\n",
       "Delivery_location_longitude       0\n",
       "Order_Date                        0\n",
       "Time_Orderd                    1731\n",
       "Time_Order_picked                 0\n",
       "Weatherconditions               616\n",
       "Road_traffic_density            601\n",
       "Vehicle_condition                 0\n",
       "Type_of_order                     0\n",
       "Type_of_vehicle                   0\n",
       "multiple_deliveries             993\n",
       "Festival                        228\n",
       "City                           1200\n",
       "Time_taken(min)                   0\n",
       "dtype: int64"
      ]
     },
     "execution_count": 13,
     "metadata": {},
     "output_type": "execute_result"
    }
   ],
   "source": [
    "# Check for missing values\n",
    "df.isnull().sum()"
   ]
  },
  {
   "cell_type": "code",
   "execution_count": 14,
   "id": "9dce1fee-b385-4930-899c-938d02216823",
   "metadata": {},
   "outputs": [
    {
     "data": {
      "text/html": [
       "<div>\n",
       "<style scoped>\n",
       "    .dataframe tbody tr th:only-of-type {\n",
       "        vertical-align: middle;\n",
       "    }\n",
       "\n",
       "    .dataframe tbody tr th {\n",
       "        vertical-align: top;\n",
       "    }\n",
       "\n",
       "    .dataframe thead th {\n",
       "        text-align: right;\n",
       "    }\n",
       "</style>\n",
       "<table border=\"1\" class=\"dataframe\">\n",
       "  <thead>\n",
       "    <tr style=\"text-align: right;\">\n",
       "      <th></th>\n",
       "      <th>Number_of_missing</th>\n",
       "      <th>Percentage (%)</th>\n",
       "    </tr>\n",
       "  </thead>\n",
       "  <tbody>\n",
       "    <tr>\n",
       "      <th>Delivery_person_Ratings</th>\n",
       "      <td>1908</td>\n",
       "      <td>4.18</td>\n",
       "    </tr>\n",
       "    <tr>\n",
       "      <th>Delivery_person_Age</th>\n",
       "      <td>1854</td>\n",
       "      <td>4.07</td>\n",
       "    </tr>\n",
       "    <tr>\n",
       "      <th>Time_Orderd</th>\n",
       "      <td>1731</td>\n",
       "      <td>3.80</td>\n",
       "    </tr>\n",
       "    <tr>\n",
       "      <th>City</th>\n",
       "      <td>1200</td>\n",
       "      <td>2.63</td>\n",
       "    </tr>\n",
       "    <tr>\n",
       "      <th>multiple_deliveries</th>\n",
       "      <td>993</td>\n",
       "      <td>2.18</td>\n",
       "    </tr>\n",
       "    <tr>\n",
       "      <th>Weatherconditions</th>\n",
       "      <td>616</td>\n",
       "      <td>1.35</td>\n",
       "    </tr>\n",
       "    <tr>\n",
       "      <th>Road_traffic_density</th>\n",
       "      <td>601</td>\n",
       "      <td>1.32</td>\n",
       "    </tr>\n",
       "    <tr>\n",
       "      <th>Festival</th>\n",
       "      <td>228</td>\n",
       "      <td>0.50</td>\n",
       "    </tr>\n",
       "  </tbody>\n",
       "</table>\n",
       "</div>"
      ],
      "text/plain": [
       "                         Number_of_missing  Percentage (%)\n",
       "Delivery_person_Ratings               1908            4.18\n",
       "Delivery_person_Age                   1854            4.07\n",
       "Time_Orderd                           1731            3.80\n",
       "City                                  1200            2.63\n",
       "multiple_deliveries                    993            2.18\n",
       "Weatherconditions                      616            1.35\n",
       "Road_traffic_density                   601            1.32\n",
       "Festival                               228            0.50"
      ]
     },
     "execution_count": 14,
     "metadata": {},
     "output_type": "execute_result"
    }
   ],
   "source": [
    "# Calculate percentage of missing values\n",
    "missing_values=pd.DataFrame(df.isnull().sum().sort_values(ascending=False)[:8], columns=['Number_of_missing'])\n",
    "missing_values['Percentage (%)']=(missing_values['Number_of_missing']/df.shape[0]*100).round(2)\n",
    "missing_values"
   ]
  },
  {
   "cell_type": "markdown",
   "id": "c8255415-8dfa-4563-9b31-dc1894261756",
   "metadata": {},
   "source": [
    "Although the number of missing values ​​is not large, the number in each column is only less than 5%, so we can keep it instead of deleting it. However, to be able to fill in the missing data, we need to determine the type of missing value (MCAR, MAR, MNAR). Since this is data taken from the tracking system of an express delivery application, it can be inferred that the missing data may occur due to errors in data collection, which may fall into MCAR or MAR because most of the columns are information that is not affected by other columns. Therefore, we can assume that the missing data in this case is not MNAR, so we can use some methods to fill in the missing data."
   ]
  },
  {
   "cell_type": "code",
   "execution_count": 15,
   "id": "1a180d4e-06d3-43b0-86cd-840694f9c8da",
   "metadata": {},
   "outputs": [
    {
     "data": {
      "text/plain": [
       "''"
      ]
     },
     "execution_count": 15,
     "metadata": {},
     "output_type": "execute_result"
    },
    {
     "data": {
      "image/png": "[encoded data removed]",
      "text/plain": [
       "<Figure size 1000x800 with 1 Axes>"
      ]
     },
     "metadata": {},
     "output_type": "display_data"
    }
   ],
   "source": [
    "plt.figure(figsize=(10,8))\n",
    "columns=['Delivery_person_Age', 'Delivery_person_Ratings', 'Time_Orderd', 'Road_traffic_density', 'multiple_deliveries', 'Festival', 'City', 'Weatherconditions']\n",
    "sns.heatmap(df[columns].isnull(), cbar=False)\n",
    ";"
   ]
  },
  {
   "cell_type": "markdown",
   "id": "800a7ad3-2a09-46b1-8106-08adb2715c9c",
   "metadata": {},
   "source": [
    "You can see that quite a few rows are missing information in multiple columns at the same time. We will draw a chart to see the number of missing columns by row."
   ]
  },
  {
   "cell_type": "code",
   "execution_count": 16,
   "id": "e933dd8e-c8f0-45d1-a703-b32139f90c32",
   "metadata": {},
   "outputs": [
    {
     "data": {
      "text/plain": [
       "''"
      ]
     },
     "execution_count": 16,
     "metadata": {},
     "output_type": "execute_result"
    },
    {
     "data": {
      "image/png": "[encoded data removed]",
      "text/plain": [
       "<Figure size 640x480 with 1 Axes>"
      ]
     },
     "metadata": {},
     "output_type": "display_data"
    }
   ],
   "source": [
    "total_nan=df.isnull().sum(axis=1).to_frame(name='num_nan')\n",
    "sns.countplot(data=total_nan[total_nan['num_nan']!=0], x='num_nan')\n",
    ";"
   ]
  },
  {
   "cell_type": "markdown",
   "id": "42e2464b-cc26-429b-9718-6dc1a37fde39",
   "metadata": {},
   "source": [
    "Since our original data consists of 20 variables, we will use about 12-14 independent variables to evaluate the dependent variable Time_taken. However, the data has rows containing 4 or more missing values. Having observations with such a large amount of missing information, although we can fill in the missing values, they will not contribute much value to model building. Therefore, we will delete rows with missing information in 4 or more columns and will use the filling method for the remaining rows."
   ]
  },
  {
   "cell_type": "code",
   "execution_count": 17,
   "id": "f25d3d2e-1706-4453-8ba6-e68ba2d9cd1f",
   "metadata": {},
   "outputs": [
    {
     "data": {
      "text/plain": [
       "604"
      ]
     },
     "execution_count": 17,
     "metadata": {},
     "output_type": "execute_result"
    }
   ],
   "source": [
    "# Number of rows with more than 3 missing values\n",
    "df.shape[0]-total_nan[total_nan['num_nan']<4].shape[0]"
   ]
  },
  {
   "cell_type": "code",
   "execution_count": 18,
   "id": "4a87993b-dacd-476a-9022-dad00f881912",
   "metadata": {},
   "outputs": [
    {
     "data": {
      "text/html": [
       "<div>\n",
       "<style scoped>\n",
       "    .dataframe tbody tr th:only-of-type {\n",
       "        vertical-align: middle;\n",
       "    }\n",
       "\n",
       "    .dataframe tbody tr th {\n",
       "        vertical-align: top;\n",
       "    }\n",
       "\n",
       "    .dataframe thead th {\n",
       "        text-align: right;\n",
       "    }\n",
       "</style>\n",
       "<table border=\"1\" class=\"dataframe\">\n",
       "  <thead>\n",
       "    <tr style=\"text-align: right;\">\n",
       "      <th></th>\n",
       "      <th>Number_of_missing</th>\n",
       "      <th>Percentage (%)</th>\n",
       "    </tr>\n",
       "  </thead>\n",
       "  <tbody>\n",
       "    <tr>\n",
       "      <th>Delivery_person_Ratings</th>\n",
       "      <td>1306</td>\n",
       "      <td>2.90</td>\n",
       "    </tr>\n",
       "    <tr>\n",
       "      <th>Delivery_person_Age</th>\n",
       "      <td>1252</td>\n",
       "      <td>2.78</td>\n",
       "    </tr>\n",
       "    <tr>\n",
       "      <th>City</th>\n",
       "      <td>1144</td>\n",
       "      <td>2.54</td>\n",
       "    </tr>\n",
       "    <tr>\n",
       "      <th>Time_Orderd</th>\n",
       "      <td>1128</td>\n",
       "      <td>2.51</td>\n",
       "    </tr>\n",
       "    <tr>\n",
       "      <th>multiple_deliveries</th>\n",
       "      <td>942</td>\n",
       "      <td>2.09</td>\n",
       "    </tr>\n",
       "    <tr>\n",
       "      <th>Festival</th>\n",
       "      <td>218</td>\n",
       "      <td>0.48</td>\n",
       "    </tr>\n",
       "    <tr>\n",
       "      <th>Weatherconditions</th>\n",
       "      <td>89</td>\n",
       "      <td>0.20</td>\n",
       "    </tr>\n",
       "    <tr>\n",
       "      <th>Road_traffic_density</th>\n",
       "      <td>89</td>\n",
       "      <td>0.20</td>\n",
       "    </tr>\n",
       "  </tbody>\n",
       "</table>\n",
       "</div>"
      ],
      "text/plain": [
       "                         Number_of_missing  Percentage (%)\n",
       "Delivery_person_Ratings               1306            2.90\n",
       "Delivery_person_Age                   1252            2.78\n",
       "City                                  1144            2.54\n",
       "Time_Orderd                           1128            2.51\n",
       "multiple_deliveries                    942            2.09\n",
       "Festival                               218            0.48\n",
       "Weatherconditions                       89            0.20\n",
       "Road_traffic_density                    89            0.20"
      ]
     },
     "execution_count": 18,
     "metadata": {},
     "output_type": "execute_result"
    }
   ],
   "source": [
    "df['total_nan']=total_nan['num_nan']\n",
    "df=df[df['total_nan']<4]\n",
    "\n",
    "# Check missing values of new data\n",
    "missing_values=pd.DataFrame(df.isnull().sum().sort_values(ascending=False)[:8], columns=['Number_of_missing'])\n",
    "missing_values['Percentage (%)']=(missing_values['Number_of_missing']/df.shape[0]*100).round(2)\n",
    "missing_values"
   ]
  },
  {
   "cell_type": "markdown",
   "id": "5dc00d3f-3fab-4211-a8f8-3b2846436faa",
   "metadata": {},
   "source": [
    "Now we have a new data set, but there are still missing values. Now we will look at each variable to decide what method we will use to fill in the missing values."
   ]
  },
  {
   "cell_type": "markdown",
   "id": "545d2a56-59c7-4832-899b-359bcc5136d3",
   "metadata": {},
   "source": [
    "#### Delivery_person_Ratings\n",
    "\n",
    "Delivery_person_Ratings is the feature with the most missing values, with around 2.9% of the dataset."
   ]
  },
  {
   "cell_type": "code",
   "execution_count": 19,
   "id": "762c8409-cbc5-4ce1-9dbd-82f7ac602da0",
   "metadata": {},
   "outputs": [
    {
     "data": {
      "text/plain": [
       "''"
      ]
     },
     "execution_count": 19,
     "metadata": {},
     "output_type": "execute_result"
    },
    {
     "data": {
      "image/png": "[encoded data removed]",
      "text/plain": [
       "<Figure size 1000x500 with 1 Axes>"
      ]
     },
     "metadata": {},
     "output_type": "display_data"
    }
   ],
   "source": [
    "plt.figure(figsize=(10,5))\n",
    "sns.countplot(data=df, x='Delivery_person_Ratings', edgecolor='k')\n",
    "plt.xticks(rotation=90)\n",
    ";"
   ]
  },
  {
   "cell_type": "markdown",
   "id": "a49a0e3e-d6bc-4d59-afd3-db270671dceb",
   "metadata": {},
   "source": [
    "We can see that most of the current evaluations are based on a scale of 1 to 5, however our data shows some values ​​of 6. This seems unrealistic and it is necessary to remove this value of 6 from the data before performing the calculation. However, we can convert these values ​​to the highest value in the scale of 5 to be able to keep as many rows as possible."
   ]
  },
  {
   "cell_type": "code",
   "execution_count": 20,
   "id": "af61c80d-d2e3-48b2-922a-de08aeef604c",
   "metadata": {},
   "outputs": [],
   "source": [
    "df['Delivery_person_Ratings']=df['Delivery_person_Ratings'].apply(lambda x: 5.0 if x==6.0 else x)"
   ]
  },
  {
   "cell_type": "code",
   "execution_count": 21,
   "id": "8ed82d98-fa4a-492b-b957-b9a932834f94",
   "metadata": {},
   "outputs": [
    {
     "data": {
      "text/plain": [
       "(4.6, 4.7)"
      ]
     },
     "execution_count": 21,
     "metadata": {},
     "output_type": "execute_result"
    }
   ],
   "source": [
    "# Calculate Mean, Median\n",
    "round(df['Delivery_person_Ratings'].mean(), 1), round(df['Delivery_person_Ratings'].median(), 1)"
   ]
  },
  {
   "cell_type": "markdown",
   "id": "3a2761fb-6a25-4917-b62c-291a45203b08",
   "metadata": {},
   "source": [
    "It can be seen that most of the values ​​are greater than 4.4, moreover the data is skewed left, so we will fill in the missing value with the highest value to reduce the skew (in this case, the median)."
   ]
  },
  {
   "cell_type": "code",
   "execution_count": 22,
   "id": "2b321f4a-c19f-4768-b452-d1115ca96f37",
   "metadata": {},
   "outputs": [],
   "source": [
    "df['Delivery_person_Ratings'].fillna(value=4.7, inplace=True)"
   ]
  },
  {
   "cell_type": "markdown",
   "id": "9d05204d-27de-4220-b0d4-89ff4b724d0c",
   "metadata": {},
   "source": [
    "#### Delivery_person_Age"
   ]
  },
  {
   "cell_type": "code",
   "execution_count": 23,
   "id": "f28d590e-2205-4998-bedf-294b3fd7a996",
   "metadata": {},
   "outputs": [
    {
     "data": {
      "text/plain": [
       "''"
      ]
     },
     "execution_count": 23,
     "metadata": {},
     "output_type": "execute_result"
    },
    {
     "data": {
      "image/png": "[encoded data removed]",
      "text/plain": [
       "<Figure size 1000x500 with 1 Axes>"
      ]
     },
     "metadata": {},
     "output_type": "display_data"
    }
   ],
   "source": [
    "plt.figure(figsize=(10,5))\n",
    "sns.countplot(data=df, x='Delivery_person_Age', edgecolor='k')\n",
    "plt.xticks(rotation=90)\n",
    ";"
   ]
  },
  {
   "cell_type": "code",
   "execution_count": 24,
   "id": "f8c27249-fc5e-416c-9b95-a4a93b5f7fd0",
   "metadata": {},
   "outputs": [
    {
     "data": {
      "text/plain": [
       "89"
      ]
     },
     "execution_count": 24,
     "metadata": {},
     "output_type": "execute_result"
    }
   ],
   "source": [
    "# Count number of delivery person with age=15 and age=50\n",
    "df[(df['Delivery_person_Age']==15)|(df['Delivery_person_Age']==50)].shape[0]"
   ]
  },
  {
   "cell_type": "markdown",
   "id": "ae264b5e-3ca2-45d5-bbcf-6c51e8b1e65e",
   "metadata": {},
   "source": [
    "We can see that the majority of the age range is between 20 and 39, with very few people between 15 and 50, we can remove those people to make the data more evenly distributed."
   ]
  },
  {
   "cell_type": "code",
   "execution_count": 25,
   "id": "709d79ed-d764-4143-bad7-8ec9674c5da8",
   "metadata": {},
   "outputs": [],
   "source": [
    "# Delete row with age=15 or age=50\n",
    "df=df[(df['Delivery_person_Age']!=15)&(df['Delivery_person_Age']!=50)]"
   ]
  },
  {
   "cell_type": "code",
   "execution_count": 26,
   "id": "9302b167-76a8-432c-a99c-a019d27afb5f",
   "metadata": {},
   "outputs": [
    {
     "data": {
      "text/plain": [
       "(29.6, 30.0)"
      ]
     },
     "execution_count": 26,
     "metadata": {},
     "output_type": "execute_result"
    }
   ],
   "source": [
    "# Calculate Mean, Median\n",
    "round(df['Delivery_person_Age'].mean(), 1), round(df['Delivery_person_Age'].median(), 1)"
   ]
  },
  {
   "cell_type": "markdown",
   "id": "3d051bf6-08e6-4225-b918-935247d09e95",
   "metadata": {},
   "source": [
    "After removing the 2 age groups that account for a very small number, we see that the remaining ages are well balanced. So I gonna use interpolation to fill missing values"
   ]
  },
  {
   "cell_type": "code",
   "execution_count": 27,
   "id": "5eefe568-ede6-4471-b32f-74857f914cbb",
   "metadata": {},
   "outputs": [
    {
     "name": "stderr",
     "output_type": "stream",
     "text": [
      "C:\\Users\\ADMIN\\AppData\\Local\\Temp\\ipykernel_9076\\1220610897.py:6: UserWarning: set_ticklabels() should only be used with a fixed number of ticks, i.e. after set_ticks() or using a FixedLocator.\n",
      "  ax[0].set_xticklabels(ax[0].get_xticklabels(), rotation=90)\n",
      "C:\\Users\\ADMIN\\AppData\\Local\\Temp\\ipykernel_9076\\1220610897.py:8: UserWarning: set_ticklabels() should only be used with a fixed number of ticks, i.e. after set_ticks() or using a FixedLocator.\n",
      "  ax[1].set_xticklabels(ax[1].get_xticklabels(), rotation=90)\n"
     ]
    },
    {
     "data": {
      "text/plain": [
       "''"
      ]
     },
     "execution_count": 27,
     "metadata": {},
     "output_type": "execute_result"
    },
    {
     "data": {
      "image/png": "[encoded data removed]",
      "text/plain": [
       "<Figure size 1500x400 with 2 Axes>"
      ]
     },
     "metadata": {},
     "output_type": "display_data"
    }
   ],
   "source": [
    "imputed_age=round(df['Delivery_person_Age'].interpolate(method='linear'), 0).to_frame(name='Delivery_person_Age')\n",
    "\n",
    "fig, ax=plt.subplots(1, 2, figsize=(15,4))\n",
    "sns.countplot(data=df, x='Delivery_person_Age', edgecolor='k', ax=ax[0])\n",
    "sns.countplot(data=imputed_age, x='Delivery_person_Age', edgecolor='k', ax=ax[1])\n",
    "ax[0].set_xticklabels(ax[0].get_xticklabels(), rotation=90)\n",
    "ax[0].set_title('Before Imputed')\n",
    "ax[1].set_xticklabels(ax[1].get_xticklabels(), rotation=90)\n",
    "ax[1].set_title('After Imputed')\n",
    ";"
   ]
  },
  {
   "cell_type": "code",
   "execution_count": 28,
   "id": "c7efa7ab-31ea-4cb1-ba9b-3cafbae8e143",
   "metadata": {},
   "outputs": [
    {
     "data": {
      "text/plain": [
       "(29.555008247800586, 29.553964365256125, 0.00104)"
      ]
     },
     "execution_count": 28,
     "metadata": {},
     "output_type": "execute_result"
    }
   ],
   "source": [
    "# Mean difference\n",
    "(df['Delivery_person_Age'].mean(), \\\n",
    "imputed_age['Delivery_person_Age'].mean(), \\\n",
    "round(df['Delivery_person_Age'].mean()-imputed_age['Delivery_person_Age'].mean(), 5))"
   ]
  },
  {
   "cell_type": "code",
   "execution_count": 29,
   "id": "25f29241-4413-4ef3-9249-8d44ddf43a1f",
   "metadata": {},
   "outputs": [],
   "source": [
    "df['Delivery_person_Age']=imputed_age['Delivery_person_Age']"
   ]
  },
  {
   "cell_type": "markdown",
   "id": "bbd66c49-e37a-4c63-a2d0-2c26182cbb49",
   "metadata": {},
   "source": [
    "#### City"
   ]
  },
  {
   "cell_type": "code",
   "execution_count": 30,
   "id": "4ccb90e5-7cc8-430d-b35e-e8fe689a443e",
   "metadata": {},
   "outputs": [
    {
     "data": {
      "text/plain": [
       "''"
      ]
     },
     "execution_count": 30,
     "metadata": {},
     "output_type": "execute_result"
    },
    {
     "data": {
      "image/png": "[encoded data removed]",
      "text/plain": [
       "<Figure size 500x400 with 1 Axes>"
      ]
     },
     "metadata": {},
     "output_type": "display_data"
    }
   ],
   "source": [
    "plt.figure(figsize=(5,4))\n",
    "sns.countplot(data=df, x='City', edgecolor='k', width=0.3)\n",
    "plt.xlabel(None)\n",
    "plt.title('City value counts')\n",
    ";"
   ]
  },
  {
   "cell_type": "code",
   "execution_count": 31,
   "id": "81b2d136-e5ed-4ab7-a275-1ff4521f3bfc",
   "metadata": {},
   "outputs": [],
   "source": [
    "df['City'].fillna(value='Metropolitian', inplace=True)"
   ]
  },
  {
   "cell_type": "markdown",
   "id": "6f05bede-bb6e-4271-b303-cf831966626b",
   "metadata": {},
   "source": [
    "#### multiple_deliveries"
   ]
  },
  {
   "cell_type": "code",
   "execution_count": 32,
   "id": "1faf9dae-065a-4620-9704-3ba0c90780d2",
   "metadata": {},
   "outputs": [
    {
     "data": {
      "text/plain": [
       "''"
      ]
     },
     "execution_count": 32,
     "metadata": {},
     "output_type": "execute_result"
    },
    {
     "data": {
      "image/png": "[encoded data removed]",
      "text/plain": [
       "<Figure size 500x400 with 1 Axes>"
      ]
     },
     "metadata": {},
     "output_type": "display_data"
    }
   ],
   "source": [
    "plt.figure(figsize=(5,4))\n",
    "sns.countplot(data=df, x='multiple_deliveries', edgecolor='k', width=0.3)\n",
    "plt.xlabel(None)\n",
    "plt.title('multiple_deliveries value counts')\n",
    ";"
   ]
  },
  {
   "cell_type": "code",
   "execution_count": 33,
   "id": "a15fe839-cd30-4750-8bbc-f2866d54c18f",
   "metadata": {},
   "outputs": [],
   "source": [
    "df['multiple_deliveries'].fillna(value=1.0, inplace=True)"
   ]
  },
  {
   "cell_type": "code",
   "execution_count": 34,
   "id": "9f064e91-e635-4439-85aa-8cdfb05d9a82",
   "metadata": {},
   "outputs": [],
   "source": [
    "df['multiple_deliveries']=df['multiple_deliveries']+1"
   ]
  },
  {
   "cell_type": "markdown",
   "id": "03625f2e-d04b-488b-b455-2a688e94139a",
   "metadata": {},
   "source": [
    "#### Festival"
   ]
  },
  {
   "cell_type": "code",
   "execution_count": 35,
   "id": "2181118f-cab4-4b3d-8a51-48f8aaa637a8",
   "metadata": {},
   "outputs": [
    {
     "data": {
      "text/plain": [
       "''"
      ]
     },
     "execution_count": 35,
     "metadata": {},
     "output_type": "execute_result"
    },
    {
     "data": {
      "image/png": "[encoded data removed]",
      "text/plain": [
       "<Figure size 500x400 with 1 Axes>"
      ]
     },
     "metadata": {},
     "output_type": "display_data"
    }
   ],
   "source": [
    "plt.figure(figsize=(5,4))\n",
    "sns.countplot(data=df, x='Festival', edgecolor='k', width=0.3)\n",
    "plt.xlabel(None)\n",
    "plt.title('Festival value counts')\n",
    ";"
   ]
  },
  {
   "cell_type": "code",
   "execution_count": 36,
   "id": "5a5b1bdb-9ff5-4a08-ad1d-b73bf427891e",
   "metadata": {},
   "outputs": [],
   "source": [
    "df['Festival'].fillna(value='No', inplace=True)"
   ]
  },
  {
   "cell_type": "markdown",
   "id": "783c8f5f-af6d-431a-80cc-6cfa021757dc",
   "metadata": {},
   "source": [
    "#### Road_traffic_density"
   ]
  },
  {
   "cell_type": "code",
   "execution_count": 37,
   "id": "12e3e374-1278-402a-810e-fb0ab77f9499",
   "metadata": {},
   "outputs": [
    {
     "data": {
      "text/plain": [
       "''"
      ]
     },
     "execution_count": 37,
     "metadata": {},
     "output_type": "execute_result"
    },
    {
     "data": {
      "image/png": "[encoded data removed]",
      "text/plain": [
       "<Figure size 500x400 with 1 Axes>"
      ]
     },
     "metadata": {},
     "output_type": "display_data"
    }
   ],
   "source": [
    "plt.figure(figsize=(5,4))\n",
    "sns.countplot(data=df, x='Road_traffic_density', edgecolor='k', width=0.3)\n",
    "plt.xlabel(None)\n",
    "plt.title('Road_traffic_density value counts')\n",
    ";"
   ]
  },
  {
   "cell_type": "code",
   "execution_count": 38,
   "id": "9bf071f5-7be6-40ac-8319-f14f0e569c45",
   "metadata": {},
   "outputs": [],
   "source": [
    "df['Road_traffic_density'].fillna(value='Low', inplace=True)"
   ]
  },
  {
   "cell_type": "markdown",
   "id": "6e3b100d-8fad-44c5-83f6-6c08783e6f67",
   "metadata": {},
   "source": [
    "### Transform target"
   ]
  },
  {
   "cell_type": "code",
   "execution_count": 39,
   "id": "96c4e9c0-5768-4b62-8ed8-81c590680728",
   "metadata": {},
   "outputs": [],
   "source": [
    "df['Time_taken(min)']=df['Time_taken(min)'].str.slice(start=5)\n",
    "df['Time_taken(min)']=df['Time_taken(min)'].astype('int')"
   ]
  },
  {
   "cell_type": "markdown",
   "id": "f0d9c816-e5fe-4115-878d-7c990d0bea1e",
   "metadata": {},
   "source": [
    "### Create some new variables by merging or transforming old variables."
   ]
  },
  {
   "cell_type": "markdown",
   "id": "dcfff107-e0a3-4e0b-b15e-01d95ff3519c",
   "metadata": {},
   "source": [
    "#### Feature Engineering new variables and Convert to pd.to_datetime"
   ]
  },
  {
   "cell_type": "code",
   "execution_count": 40,
   "id": "4e83361b-0032-4934-8849-1b219547428d",
   "metadata": {},
   "outputs": [],
   "source": [
    "df['Order_Date']=df['Order_Date']+' '+df['Time_Order_picked']\n",
    "df['Order_Date']=pd.to_datetime(df['Order_Date'], format='%d-%m-%Y %H:%M:%S')\n",
    "df['pick_time']=df['Order_Date'].dt.hour"
   ]
  },
  {
   "cell_type": "markdown",
   "id": "e09f76eb-1375-4f24-8f84-1afb38ad3699",
   "metadata": {},
   "source": [
    "Next we will calculate the distance between 2 points based on longitude and latitude. First we will look at the longitude and latitude statistics of both the restaurant and delivery location."
   ]
  },
  {
   "cell_type": "code",
   "execution_count": 41,
   "id": "29bb5fcd-99f5-4c83-b67a-21ef2cd2cdf5",
   "metadata": {},
   "outputs": [
    {
     "data": {
      "text/html": [
       "<div>\n",
       "<style scoped>\n",
       "    .dataframe tbody tr th:only-of-type {\n",
       "        vertical-align: middle;\n",
       "    }\n",
       "\n",
       "    .dataframe tbody tr th {\n",
       "        vertical-align: top;\n",
       "    }\n",
       "\n",
       "    .dataframe thead th {\n",
       "        text-align: right;\n",
       "    }\n",
       "</style>\n",
       "<table border=\"1\" class=\"dataframe\">\n",
       "  <thead>\n",
       "    <tr style=\"text-align: right;\">\n",
       "      <th></th>\n",
       "      <th>Restaurant_latitude</th>\n",
       "      <th>Restaurant_longitude</th>\n",
       "      <th>Delivery_location_latitude</th>\n",
       "      <th>Delivery_location_longitude</th>\n",
       "    </tr>\n",
       "  </thead>\n",
       "  <tbody>\n",
       "    <tr>\n",
       "      <th>count</th>\n",
       "      <td>44900.000000</td>\n",
       "      <td>44900.000000</td>\n",
       "      <td>44900.000000</td>\n",
       "      <td>44900.000000</td>\n",
       "    </tr>\n",
       "    <tr>\n",
       "      <th>mean</th>\n",
       "      <td>17.144541</td>\n",
       "      <td>70.610362</td>\n",
       "      <td>17.468425</td>\n",
       "      <td>70.830592</td>\n",
       "    </tr>\n",
       "    <tr>\n",
       "      <th>std</th>\n",
       "      <td>7.927552</td>\n",
       "      <td>21.654219</td>\n",
       "      <td>7.339877</td>\n",
       "      <td>21.136970</td>\n",
       "    </tr>\n",
       "    <tr>\n",
       "      <th>min</th>\n",
       "      <td>-30.905562</td>\n",
       "      <td>-88.352885</td>\n",
       "      <td>0.010000</td>\n",
       "      <td>0.010000</td>\n",
       "    </tr>\n",
       "    <tr>\n",
       "      <th>25%</th>\n",
       "      <td>12.933298</td>\n",
       "      <td>73.170283</td>\n",
       "      <td>12.988453</td>\n",
       "      <td>73.279083</td>\n",
       "    </tr>\n",
       "    <tr>\n",
       "      <th>50%</th>\n",
       "      <td>18.551440</td>\n",
       "      <td>75.898497</td>\n",
       "      <td>18.634382</td>\n",
       "      <td>76.002471</td>\n",
       "    </tr>\n",
       "    <tr>\n",
       "      <th>75%</th>\n",
       "      <td>22.728163</td>\n",
       "      <td>78.045359</td>\n",
       "      <td>22.785207</td>\n",
       "      <td>78.105359</td>\n",
       "    </tr>\n",
       "    <tr>\n",
       "      <th>max</th>\n",
       "      <td>30.914057</td>\n",
       "      <td>88.433452</td>\n",
       "      <td>31.054057</td>\n",
       "      <td>88.563452</td>\n",
       "    </tr>\n",
       "  </tbody>\n",
       "</table>\n",
       "</div>"
      ],
      "text/plain": [
       "       Restaurant_latitude  Restaurant_longitude  Delivery_location_latitude  \\\n",
       "count         44900.000000          44900.000000                44900.000000   \n",
       "mean             17.144541             70.610362                   17.468425   \n",
       "std               7.927552             21.654219                    7.339877   \n",
       "min             -30.905562            -88.352885                    0.010000   \n",
       "25%              12.933298             73.170283                   12.988453   \n",
       "50%              18.551440             75.898497                   18.634382   \n",
       "75%              22.728163             78.045359                   22.785207   \n",
       "max              30.914057             88.433452                   31.054057   \n",
       "\n",
       "       Delivery_location_longitude  \n",
       "count                 44900.000000  \n",
       "mean                     70.830592  \n",
       "std                      21.136970  \n",
       "min                       0.010000  \n",
       "25%                      73.279083  \n",
       "50%                      76.002471  \n",
       "75%                      78.105359  \n",
       "max                      88.563452  "
      ]
     },
     "execution_count": 41,
     "metadata": {},
     "output_type": "execute_result"
    }
   ],
   "source": [
    "df[['Restaurant_latitude', 'Restaurant_longitude', 'Delivery_location_latitude', 'Delivery_location_longitude']].describe()"
   ]
  },
  {
   "cell_type": "markdown",
   "id": "6e9fdc6d-bfc1-40fe-84cd-b96845394274",
   "metadata": {},
   "source": [
    "We can see a problem that the latitude and longitude values ​​of Delivery_location are both positive values, while the latitude and longitude of Restaurant appear to be negative values, which shows that there may be a combination like A(-2,-3) and B(4,5), in this project, we will use the Haversine formula to calculate the distance between two points on the map. However, the combination of the coordinates of 2 points with both positive and negative values ​​will lead to very large distances, which is even more unreasonable in the context of food delivery, where a relatively close distance and fast delivery time are required. Therefore, we will convert the negative values ​​in the 2 columns longitude and latitude of Restaurant to positive values.\n",
    "\n",
    "Although this calculation method will give the result as the crow flies (ie the shortest distance between 2 points), in reality it is difficult to find such a short route. Therefore, the actual distance is always greater than or equal to the calculated distance."
   ]
  },
  {
   "cell_type": "code",
   "execution_count": 42,
   "id": "cc62c3b4-38e1-4f5b-97e1-8462dd57cd62",
   "metadata": {},
   "outputs": [],
   "source": [
    "# Convert negative value in longitude and latitude of Restaurant to positive\n",
    "df['Restaurant_latitude']=np.where(df['Restaurant_latitude']<0, df['Restaurant_latitude']*-1, df['Restaurant_latitude'])\n",
    "df['Restaurant_longitude']=np.where(df['Restaurant_longitude']<0, df['Restaurant_longitude']*-1, df['Restaurant_longitude'])"
   ]
  },
  {
   "cell_type": "code",
   "execution_count": 43,
   "id": "712f0384-f195-4a6d-901c-8ff4a940cdd6",
   "metadata": {},
   "outputs": [],
   "source": [
    "# Calculate the distance between restaurant and delivery location by using longitude and latitude and haversine formula\n",
    "from sklearn.metrics.pairwise import haversine_distances\n",
    "# Create function\n",
    "def distance(lat_a, long_a, lat_b, long_b):\n",
    "    df_copy=df.copy()\n",
    "    for col in [lat_a, long_a, lat_b, long_b]:\n",
    "        df_copy[col+'_rad']=df_copy[col]*np.pi/180\n",
    "    df['distance'] = df_copy.apply(\n",
    "        lambda row: haversine_distances([[row[lat_a+'_rad'], row[long_a+'_rad']], \n",
    "                                     [row[lat_b+'_rad'], row[long_b+'_rad']]])[0, 1],\n",
    "        axis=1\n",
    "        )\n",
    "    df['distance'] = (df['distance']*6371).round(3)\n",
    "    return df['distance']\n",
    "\n",
    "df['distance']=distance('Restaurant_latitude', 'Restaurant_longitude', 'Delivery_location_latitude', 'Delivery_location_longitude')"
   ]
  },
  {
   "cell_type": "markdown",
   "id": "6d02fe16-cf77-4511-92a7-90e7bcfbc66e",
   "metadata": {},
   "source": [
    "## Completing the data\n",
    "\n",
    "Drop unnecessary columns to reduce data size"
   ]
  },
  {
   "cell_type": "code",
   "execution_count": 44,
   "id": "789e453c-3c24-4afc-8c79-57dc24a5cdc9",
   "metadata": {},
   "outputs": [],
   "source": [
    "df.drop(columns=['Restaurant_latitude',\n",
    "       'Restaurant_longitude', 'Delivery_location_latitude',\n",
    "       'Delivery_location_longitude', 'Order_Date', 'Time_Orderd',\n",
    "       'Time_Order_picked', 'total_nan'], inplace=True)"
   ]
  },
  {
   "cell_type": "code",
   "execution_count": 45,
   "id": "3af9fe16-bf99-422d-aba3-6cd4b5b015f7",
   "metadata": {},
   "outputs": [],
   "source": [
    "df.rename(columns={'Time_taken(min)':'Time_taken'}, inplace=True)"
   ]
  },
  {
   "cell_type": "markdown",
   "id": "d6356278-4e65-4626-9733-871a855910d9",
   "metadata": {},
   "source": [
    "## Section Summary\n",
    "\n",
    "This part of the project focused in cleaning the data, creating new features and handle the missing values. The output of this section is a more clean and interpretable dataset to analyse in the next notebook."
   ]
  },
  {
   "cell_type": "code",
   "execution_count": 46,
   "id": "c5055056-1f09-4c67-969e-75994f5facda",
   "metadata": {},
   "outputs": [],
   "source": [
    "df.to_csv('data/cleaned_data.csv', index = False, encoding = 'utf-8')"
   ]
  }
 ],
 "metadata": {
  "kernelspec": {
   "display_name": "Python 3 (ipykernel)",
   "language": "python",
   "name": "python3"
  },
  "language_info": {
   "codemirror_mode": {
    "name": "ipython",
    "version": 3
   },
   "file_extension": ".py",
   "mimetype": "text/x-python",
   "name": "python",
   "nbconvert_exporter": "python",
   "pygments_lexer": "ipython3",
   "version": "3.11.5"
  }
 },
 "nbformat": 4,
 "nbformat_minor": 5
}
